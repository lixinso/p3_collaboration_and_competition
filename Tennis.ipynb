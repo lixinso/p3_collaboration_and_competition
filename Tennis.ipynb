{
 "cells": [
  {
   "cell_type": "markdown",
   "metadata": {},
   "source": [
    "# Collaboration and Competition\n",
    "\n",
    "---\n",
    "\n",
    "You are welcome to use this coding environment to train your agent for the project.  Follow the instructions below to get started!\n",
    "\n",
    "### 1. Start the Environment\n",
    "\n",
    "Run the next code cell to install a few packages.  This line will take a few minutes to run!"
   ]
  },
  {
   "cell_type": "code",
   "execution_count": 1,
   "metadata": {},
   "outputs": [],
   "source": [
    "!pip -q install ./python"
   ]
  },
  {
   "cell_type": "markdown",
   "metadata": {},
   "source": [
    "The environment is already saved in the Workspace and can be accessed at the file path provided below. "
   ]
  },
  {
   "cell_type": "code",
   "execution_count": 2,
   "metadata": {},
   "outputs": [
    {
     "name": "stderr",
     "output_type": "stream",
     "text": [
      "INFO:unityagents:\n",
      "'Academy' started successfully!\n",
      "Unity Academy name: Academy\n",
      "        Number of Brains: 1\n",
      "        Number of External Brains : 1\n",
      "        Lesson number : 0\n",
      "        Reset Parameters :\n",
      "\t\t\n",
      "Unity brain name: TennisBrain\n",
      "        Number of Visual Observations (per agent): 0\n",
      "        Vector Observation space type: continuous\n",
      "        Vector Observation space size (per agent): 8\n",
      "        Number of stacked Vector Observation: 3\n",
      "        Vector Action space type: continuous\n",
      "        Vector Action space size (per agent): 2\n",
      "        Vector Action descriptions: , \n"
     ]
    }
   ],
   "source": [
    "from unityagents import UnityEnvironment\n",
    "import numpy as np\n",
    "\n",
    "env = UnityEnvironment(file_name=\"/data/Tennis_Linux_NoVis/Tennis\")"
   ]
  },
  {
   "cell_type": "markdown",
   "metadata": {},
   "source": [
    "Environments contain **_brains_** which are responsible for deciding the actions of their associated agents. Here we check for the first brain available, and set it as the default brain we will be controlling from Python."
   ]
  },
  {
   "cell_type": "code",
   "execution_count": 3,
   "metadata": {},
   "outputs": [],
   "source": [
    "# get the default brain\n",
    "brain_name = env.brain_names[0]\n",
    "brain = env.brains[brain_name]"
   ]
  },
  {
   "cell_type": "markdown",
   "metadata": {},
   "source": [
    "### 2. Examine the State and Action Spaces\n",
    "\n",
    "Run the code cell below to print some information about the environment."
   ]
  },
  {
   "cell_type": "code",
   "execution_count": 4,
   "metadata": {},
   "outputs": [
    {
     "name": "stdout",
     "output_type": "stream",
     "text": [
      "Number of agents: 2\n",
      "Size of each action: 2\n",
      "There are 2 agents. Each observes a state with length: 24\n",
      "The state for the first agent looks like: [ 0.          0.          0.          0.          0.          0.          0.\n",
      "  0.          0.          0.          0.          0.          0.          0.\n",
      "  0.          0.         -6.65278625 -1.5        -0.          0.\n",
      "  6.83172083  6.         -0.          0.        ]\n"
     ]
    }
   ],
   "source": [
    "# reset the environment\n",
    "env_info = env.reset(train_mode=True)[brain_name]\n",
    "\n",
    "# number of agents \n",
    "num_agents = len(env_info.agents)\n",
    "print('Number of agents:', num_agents)\n",
    "\n",
    "# size of each action\n",
    "action_size = brain.vector_action_space_size\n",
    "print('Size of each action:', action_size)\n",
    "\n",
    "# examine the state space \n",
    "states = env_info.vector_observations\n",
    "state_size = states.shape[1]\n",
    "print('There are {} agents. Each observes a state with length: {}'.format(states.shape[0], state_size))\n",
    "print('The state for the first agent looks like:', states[0])"
   ]
  },
  {
   "cell_type": "markdown",
   "metadata": {},
   "source": [
    "### 3. Take Random Actions in the Environment\n",
    "\n",
    "In the next code cell, you will learn how to use the Python API to control the agent and receive feedback from the environment.\n",
    "\n",
    "Note that **in this coding environment, you will not be able to watch the agents while they are training**, and you should set `train_mode=True` to restart the environment."
   ]
  },
  {
   "cell_type": "code",
   "execution_count": 5,
   "metadata": {},
   "outputs": [
    {
     "name": "stdout",
     "output_type": "stream",
     "text": [
      "Total score (averaged over agents) this episode: -0.004999999888241291\n",
      "Total score (averaged over agents) this episode: -0.004999999888241291\n",
      "Total score (averaged over agents) this episode: -0.004999999888241291\n",
      "Total score (averaged over agents) this episode: -0.004999999888241291\n",
      "Total score (averaged over agents) this episode: -0.004999999888241291\n"
     ]
    }
   ],
   "source": [
    "for i in range(5):                                         # play game for 5 episodes\n",
    "    env_info = env.reset(train_mode=False)[brain_name]     # reset the environment    \n",
    "    states = env_info.vector_observations                  # get the current state (for each agent)\n",
    "    scores = np.zeros(num_agents)                          # initialize the score (for each agent)\n",
    "    while True:\n",
    "        actions = np.random.randn(num_agents, action_size) # select an action (for each agent)\n",
    "        actions = np.clip(actions, -1, 1)                  # all actions between -1 and 1\n",
    "        env_info = env.step(actions)[brain_name]           # send all actions to tne environment\n",
    "        next_states = env_info.vector_observations         # get next state (for each agent)\n",
    "        rewards = env_info.rewards                         # get reward (for each agent)\n",
    "        dones = env_info.local_done                        # see if episode finished\n",
    "        scores += env_info.rewards                         # update the score (for each agent)\n",
    "        states = next_states                               # roll over states to next time step\n",
    "        if np.any(dones):                                  # exit loop if episode finished\n",
    "            break\n",
    "    print('Total score (averaged over agents) this episode: {}'.format(np.mean(scores)))"
   ]
  },
  {
   "cell_type": "markdown",
   "metadata": {},
   "source": [
    "When finished, you can close the environment."
   ]
  },
  {
   "cell_type": "code",
   "execution_count": 6,
   "metadata": {},
   "outputs": [],
   "source": [
    "#env.close()"
   ]
  },
  {
   "cell_type": "markdown",
   "metadata": {},
   "source": [
    "### 4. It's Your Turn!\n",
    "\n",
    "Now it's your turn to train your own agent to solve the environment!  A few **important notes**:\n",
    "- When training the environment, set `train_mode=True`, so that the line for resetting the environment looks like the following:\n",
    "```python\n",
    "env_info = env.reset(train_mode=True)[brain_name]\n",
    "```\n",
    "- To structure your work, you're welcome to work directly in this Jupyter notebook, or you might like to start over with a new file!  You can see the list of files in the workspace by clicking on **_Jupyter_** in the top left corner of the notebook.\n",
    "- In this coding environment, you will not be able to watch the agents while they are training.  However, **_after training the agents_**, you can download the saved model weights to watch the agents on your own machine! "
   ]
  },
  {
   "cell_type": "code",
   "execution_count": 7,
   "metadata": {},
   "outputs": [],
   "source": [
    "from maddpg_agent import Agent\n",
    "from collections import deque\n",
    "import matplotlib.pyplot as plt\n",
    "import numpy as np\n",
    "import random\n",
    "import time\n",
    "import torch"
   ]
  },
  {
   "cell_type": "code",
   "execution_count": 8,
   "metadata": {},
   "outputs": [
    {
     "name": "stdout",
     "output_type": "stream",
     "text": [
      "Episode 0000-0010\t Max Reward: 0.000\t Moving Average: 0.000\n",
      "Episode 0010-0020\t Max Reward: 0.000\t Moving Average: 0.000\n",
      "Episode 0020-0030\t Max Reward: 0.100\t Moving Average: 0.013\n",
      "Episode 0030-0040\t Max Reward: 0.100\t Moving Average: 0.013\n",
      "Episode 0040-0050\t Max Reward: 0.000\t Moving Average: 0.010\n",
      "Episode 0050-0060\t Max Reward: 0.100\t Moving Average: 0.012\n",
      "Episode 0060-0070\t Max Reward: 0.100\t Moving Average: 0.013\n",
      "Episode 0070-0080\t Max Reward: 0.200\t Moving Average: 0.014\n",
      "Episode 0080-0090\t Max Reward: 0.400\t Moving Average: 0.017\n",
      "Episode 0090-0100\t Max Reward: 0.100\t Moving Average: 0.017\n",
      "Episode 0100-0110\t Max Reward: 0.100\t Moving Average: 0.019\n",
      "Episode 0110-0120\t Max Reward: 0.000\t Moving Average: 0.019\n",
      "Episode 0120-0130\t Max Reward: 0.100\t Moving Average: 0.017\n",
      "Episode 0130-0140\t Max Reward: 0.200\t Moving Average: 0.019\n",
      "Episode 0140-0150\t Max Reward: 0.100\t Moving Average: 0.021\n",
      "Episode 0150-0160\t Max Reward: 0.100\t Moving Average: 0.022\n",
      "Episode 0160-0170\t Max Reward: 0.100\t Moving Average: 0.022\n",
      "Episode 0170-0180\t Max Reward: 0.300\t Moving Average: 0.027\n",
      "Episode 0180-0190\t Max Reward: 0.200\t Moving Average: 0.029\n",
      "Episode 0190-0200\t Max Reward: 0.200\t Moving Average: 0.033\n",
      "Episode 0200-0210\t Max Reward: 0.100\t Moving Average: 0.034\n",
      "Episode 0210-0220\t Max Reward: 0.200\t Moving Average: 0.036\n",
      "Episode 0220-0230\t Max Reward: 0.200\t Moving Average: 0.037\n",
      "Episode 0230-0240\t Max Reward: 0.100\t Moving Average: 0.035\n",
      "Episode 0240-0250\t Max Reward: 0.100\t Moving Average: 0.035\n",
      "Episode 0250-0260\t Max Reward: 0.100\t Moving Average: 0.033\n",
      "Episode 0260-0270\t Max Reward: 0.200\t Moving Average: 0.034\n",
      "Episode 0270-0280\t Max Reward: 0.100\t Moving Average: 0.030\n",
      "Episode 0280-0290\t Max Reward: 0.200\t Moving Average: 0.027\n",
      "Episode 0290-0300\t Max Reward: 0.200\t Moving Average: 0.026\n",
      "Episode 0300-0310\t Max Reward: 0.300\t Moving Average: 0.027\n",
      "Episode 0310-0320\t Max Reward: 0.200\t Moving Average: 0.028\n",
      "Episode 0320-0330\t Max Reward: 0.100\t Moving Average: 0.028\n",
      "Episode 0330-0340\t Max Reward: 0.000\t Moving Average: 0.027\n",
      "Episode 0340-0350\t Max Reward: 0.100\t Moving Average: 0.028\n",
      "Episode 0350-0360\t Max Reward: 0.200\t Moving Average: 0.034\n",
      "Episode 0360-0370\t Max Reward: 0.200\t Moving Average: 0.038\n",
      "Episode 0370-0380\t Max Reward: 0.200\t Moving Average: 0.039\n",
      "Episode 0380-0390\t Max Reward: 0.200\t Moving Average: 0.040\n",
      "Episode 0390-0400\t Max Reward: 0.300\t Moving Average: 0.041\n",
      "Episode 0400-0410\t Max Reward: 0.100\t Moving Average: 0.039\n",
      "Episode 0410-0420\t Max Reward: 0.100\t Moving Average: 0.043\n",
      "Episode 0420-0430\t Max Reward: 0.300\t Moving Average: 0.051\n",
      "Episode 0430-0440\t Max Reward: 0.100\t Moving Average: 0.054\n",
      "Episode 0440-0450\t Max Reward: 0.300\t Moving Average: 0.060\n",
      "Episode 0450-0460\t Max Reward: 0.200\t Moving Average: 0.059\n",
      "Episode 0460-0470\t Max Reward: 0.300\t Moving Average: 0.060\n",
      "Episode 0470-0480\t Max Reward: 0.300\t Moving Average: 0.064\n",
      "Episode 0480-0490\t Max Reward: 0.200\t Moving Average: 0.068\n",
      "Episode 0490-0500\t Max Reward: 0.200\t Moving Average: 0.067\n",
      "Episode 0500-0510\t Max Reward: 0.200\t Moving Average: 0.073\n",
      "Episode 0510-0520\t Max Reward: 0.300\t Moving Average: 0.077\n",
      "Episode 0520-0530\t Max Reward: 0.200\t Moving Average: 0.073\n",
      "Episode 0530-0540\t Max Reward: 0.300\t Moving Average: 0.079\n",
      "Episode 0540-0550\t Max Reward: 0.100\t Moving Average: 0.076\n",
      "Episode 0550-0560\t Max Reward: 0.100\t Moving Average: 0.078\n",
      "Episode 0560-0570\t Max Reward: 0.300\t Moving Average: 0.080\n",
      "Episode 0570-0580\t Max Reward: 0.400\t Moving Average: 0.083\n",
      "Episode 0580-0590\t Max Reward: 0.100\t Moving Average: 0.080\n",
      "Episode 0590-0600\t Max Reward: 0.400\t Moving Average: 0.086\n",
      "Episode 0600-0610\t Max Reward: 0.100\t Moving Average: 0.083\n",
      "Episode 0610-0620\t Max Reward: 0.300\t Moving Average: 0.081\n",
      "Episode 0620-0630\t Max Reward: 0.800\t Moving Average: 0.090\n",
      "Episode 0630-0640\t Max Reward: 0.300\t Moving Average: 0.088\n",
      "Episode 0640-0650\t Max Reward: 0.100\t Moving Average: 0.089\n",
      "Episode 0650-0660\t Max Reward: 0.100\t Moving Average: 0.084\n",
      "Episode 0660-0670\t Max Reward: 0.100\t Moving Average: 0.076\n",
      "Episode 0670-0680\t Max Reward: 0.100\t Moving Average: 0.068\n",
      "Episode 0680-0690\t Max Reward: 0.800\t Moving Average: 0.078\n",
      "Episode 0690-0700\t Max Reward: 0.300\t Moving Average: 0.079\n",
      "Episode 0700-0710\t Max Reward: 0.300\t Moving Average: 0.087\n",
      "Episode 0710-0720\t Max Reward: 0.300\t Moving Average: 0.088\n",
      "Episode 0720-0730\t Max Reward: 0.200\t Moving Average: 0.080\n",
      "Episode 0730-0740\t Max Reward: 0.200\t Moving Average: 0.081\n",
      "Episode 0740-0750\t Max Reward: 0.200\t Moving Average: 0.081\n",
      "Episode 0750-0760\t Max Reward: 0.300\t Moving Average: 0.084\n",
      "Episode 0760-0770\t Max Reward: 0.200\t Moving Average: 0.088\n",
      "Episode 0770-0780\t Max Reward: 0.300\t Moving Average: 0.096\n",
      "Episode 0780-0790\t Max Reward: 0.100\t Moving Average: 0.086\n",
      "Episode 0790-0800\t Max Reward: 0.100\t Moving Average: 0.080\n",
      "Episode 0800-0810\t Max Reward: 0.400\t Moving Average: 0.078\n",
      "Episode 0810-0820\t Max Reward: 0.200\t Moving Average: 0.077\n",
      "Episode 0820-0830\t Max Reward: 0.100\t Moving Average: 0.072\n",
      "Episode 0830-0840\t Max Reward: 0.300\t Moving Average: 0.072\n",
      "Episode 0840-0850\t Max Reward: 0.300\t Moving Average: 0.078\n",
      "Episode 0850-0860\t Max Reward: 0.200\t Moving Average: 0.076\n",
      "Episode 0860-0870\t Max Reward: 0.300\t Moving Average: 0.078\n",
      "Episode 0870-0880\t Max Reward: 0.300\t Moving Average: 0.079\n",
      "Episode 0880-0890\t Max Reward: 0.100\t Moving Average: 0.078\n",
      "Episode 0890-0900\t Max Reward: 0.300\t Moving Average: 0.082\n",
      "Episode 0900-0910\t Max Reward: 0.500\t Moving Average: 0.084\n",
      "Episode 0910-0920\t Max Reward: 0.200\t Moving Average: 0.084\n",
      "Episode 0920-0930\t Max Reward: 0.400\t Moving Average: 0.088\n",
      "Episode 0930-0940\t Max Reward: 0.200\t Moving Average: 0.087\n",
      "Episode 0940-0950\t Max Reward: 0.500\t Moving Average: 0.084\n",
      "Episode 0950-0960\t Max Reward: 0.200\t Moving Average: 0.089\n",
      "Episode 0960-0970\t Max Reward: 0.200\t Moving Average: 0.088\n",
      "Episode 0970-0980\t Max Reward: 0.200\t Moving Average: 0.084\n",
      "Episode 0980-0990\t Max Reward: 0.200\t Moving Average: 0.093\n",
      "Episode 0990-1000\t Max Reward: 0.100\t Moving Average: 0.091\n",
      "Episode 1000-1010\t Max Reward: 0.300\t Moving Average: 0.088\n",
      "Episode 1010-1020\t Max Reward: 0.100\t Moving Average: 0.083\n",
      "Episode 1020-1030\t Max Reward: 0.100\t Moving Average: 0.084\n",
      "Episode 1030-1040\t Max Reward: 0.100\t Moving Average: 0.080\n",
      "Episode 1040-1050\t Max Reward: 0.600\t Moving Average: 0.091\n",
      "Episode 1050-1060\t Max Reward: 0.300\t Moving Average: 0.093\n",
      "Episode 1060-1070\t Max Reward: 0.100\t Moving Average: 0.088\n",
      "Episode 1070-1080\t Max Reward: 0.600\t Moving Average: 0.092\n",
      "Episode 1080-1090\t Max Reward: 0.700\t Moving Average: 0.099\n",
      "Episode 1090-1100\t Max Reward: 0.300\t Moving Average: 0.098\n",
      "Episode 1100-1110\t Max Reward: 0.500\t Moving Average: 0.099\n",
      "Episode 1110-1120\t Max Reward: 1.300\t Moving Average: 0.109\n",
      "Episode 1120-1130\t Max Reward: 0.100\t Moving Average: 0.105\n",
      "Episode 1130-1140\t Max Reward: 0.800\t Moving Average: 0.115\n",
      "Episode 1140-1150\t Max Reward: 0.200\t Moving Average: 0.100\n",
      "Episode 1150-1160\t Max Reward: 0.300\t Moving Average: 0.099\n",
      "Episode 1160-1170\t Max Reward: 0.700\t Moving Average: 0.111\n",
      "Episode 1170-1180\t Max Reward: 0.300\t Moving Average: 0.110\n",
      "Episode 1180-1190\t Max Reward: 1.100\t Moving Average: 0.111\n",
      "Episode 1190-1200\t Max Reward: 0.300\t Moving Average: 0.114\n",
      "Episode 1200-1210\t Max Reward: 0.600\t Moving Average: 0.117\n",
      "Episode 1210-1220\t Max Reward: 0.300\t Moving Average: 0.113\n",
      "Episode 1220-1230\t Max Reward: 0.400\t Moving Average: 0.125\n",
      "Episode 1230-1240\t Max Reward: 0.600\t Moving Average: 0.128\n",
      "Episode 1240-1250\t Max Reward: 0.800\t Moving Average: 0.149\n",
      "Episode 1250-1260\t Max Reward: 0.200\t Moving Average: 0.146\n",
      "Episode 1260-1270\t Max Reward: 0.300\t Moving Average: 0.143\n",
      "Episode 1270-1280\t Max Reward: 0.600\t Moving Average: 0.154\n",
      "Episode 1280-1290\t Max Reward: 0.700\t Moving Average: 0.156\n",
      "Episode 1290-1300\t Max Reward: 0.200\t Moving Average: 0.157\n",
      "Episode 1300-1310\t Max Reward: 0.200\t Moving Average: 0.154\n",
      "Episode 1310-1320\t Max Reward: 0.400\t Moving Average: 0.160\n",
      "Episode 1320-1330\t Max Reward: 0.800\t Moving Average: 0.164\n",
      "Episode 1330-1340\t Max Reward: 0.600\t Moving Average: 0.165\n",
      "Episode 1340-1350\t Max Reward: 0.400\t Moving Average: 0.152\n",
      "Episode 1350-1360\t Max Reward: 0.600\t Moving Average: 0.160\n",
      "Episode 1360-1370\t Max Reward: 0.400\t Moving Average: 0.169\n",
      "Episode 1370-1380\t Max Reward: 0.400\t Moving Average: 0.168\n",
      "Episode 1380-1390\t Max Reward: 1.000\t Moving Average: 0.188\n",
      "Episode 1390-1400\t Max Reward: 0.600\t Moving Average: 0.210\n",
      "Episode 1400-1410\t Max Reward: 1.700\t Moving Average: 0.239\n",
      "Episode 1410-1420\t Max Reward: 0.700\t Moving Average: 0.253\n",
      "Episode 1420-1430\t Max Reward: 5.100\t Moving Average: 0.322\n",
      "Episode 1430-1440\t Max Reward: 0.700\t Moving Average: 0.340\n",
      "Episode 1440-1450\t Max Reward: 0.300\t Moving Average: 0.346\n",
      "Episode 1450-1460\t Max Reward: 0.300\t Moving Average: 0.350\n",
      "Episode 1460-1470\t Max Reward: 0.200\t Moving Average: 0.345\n",
      "Episode 1470-1480\t Max Reward: 1.400\t Moving Average: 0.352\n",
      "Episode 1480-1490\t Max Reward: 1.000\t Moving Average: 0.334\n",
      "Episode 1490-1500\t Max Reward: 3.200\t Moving Average: 0.343\n",
      "Episode 1500-1510\t Max Reward: 1.700\t Moving Average: 0.331\n",
      "Episode 1510-1520\t Max Reward: 0.500\t Moving Average: 0.318\n",
      "Episode 1520-1530\t Max Reward: 0.900\t Moving Average: 0.257\n",
      "Episode 1530-1540\t Max Reward: 3.100\t Moving Average: 0.280\n",
      "Episode 1540-1550\t Max Reward: 1.300\t Moving Average: 0.296\n",
      "Episode 1550-1560\t Max Reward: 0.600\t Moving Average: 0.306\n",
      "Episode 1560-1570\t Max Reward: 1.800\t Moving Average: 0.340\n",
      "Episode 1570-1580\t Max Reward: 0.500\t Moving Average: 0.332\n",
      "Episode 1580-1590\t Max Reward: 2.500\t Moving Average: 0.386\n",
      "Episode 1590-1600\t Max Reward: 5.100\t Moving Average: 0.440\n",
      "Episode 1600-1610\t Max Reward: 1.400\t Moving Average: 0.444\n",
      "Episode 1610-1620\t Max Reward: 1.200\t Moving Average: 0.461\n",
      "Episode 1620-1630\t Max Reward: 0.500\t Moving Average: 0.453\n",
      "Episode 1630-1640\t Max Reward: 1.300\t Moving Average: 0.430\n",
      "Episode 1640-1650\t Max Reward: 1.600\t Moving Average: 0.446\n",
      "Episode 1650-1660\t Max Reward: 0.600\t Moving Average: 0.450\n",
      "Episode 1660-1670\t Max Reward: 0.600\t Moving Average: 0.430\n",
      "Episode 1670-1680\t Max Reward: 0.600\t Moving Average: 0.440\n",
      "Episode 1680-1690\t Max Reward: 0.900\t Moving Average: 0.398\n",
      "Episode 1690-1700\t Max Reward: 5.200\t Moving Average: 0.445\n",
      "<-- Environment Solved in 1608 episodes. \n",
      " Moving Average: 0.518 over past 100 episodes\n",
      "Episode 1700-1710\t Max Reward: 4.400\t Moving Average: 0.538\n",
      "Episode 1710-1720\t Max Reward: 3.200\t Moving Average: 0.595\n",
      "Episode 1720-1730\t Max Reward: 2.000\t Moving Average: 0.617\n",
      "Episode 1730-1740\t Max Reward: 1.400\t Moving Average: 0.639\n",
      "Best episode so far\n",
      " Episode 1742\t Max reward: 5.200 \t Moving average: 0.680\n",
      "Episode 1740-1750\t Max Reward: 5.200\t Moving Average: 0.797\n",
      "Episode 1750-1760\t Max Reward: 4.100\t Moving Average: 0.939\n",
      "Episode 1760-1770\t Max Reward: 5.100\t Moving Average: 1.107\n",
      "Episode 1770-1780\t Max Reward: 3.400\t Moving Average: 1.235\n",
      "Episode 1780-1790\t Max Reward: 5.100\t Moving Average: 1.331\n",
      "Best episode so far\n",
      " Episode 1794\t Max reward: 5.200 \t Moving average: 1.439\n",
      "Episode 1790-1800\t Max Reward: 5.200\t Moving Average: 1.346\n",
      "Best episode so far\n",
      " Episode 1805\t Max reward: 5.200 \t Moving average: 1.425\n",
      "Episode 1800-1810\t Max Reward: 5.200\t Moving Average: 1.343\n",
      "Episode 1810-1820\t Max Reward: 4.000\t Moving Average: 1.415\n",
      "Episode 1820-1830\t Max Reward: 4.200\t Moving Average: 1.492\n",
      "Episode 1830-1840\t Max Reward: 4.400\t Moving Average: 1.571\n",
      "Episode 1840-1850\t Max Reward: 1.600\t Moving Average: 1.416\n",
      "Episode 1850-1860\t Max Reward: 1.600\t Moving Average: 1.314\n",
      "Episode 1860-1870\t Max Reward: 1.000\t Moving Average: 1.156\n",
      "Episode 1870-1880\t Max Reward: 1.400\t Moving Average: 1.058\n",
      "Episode 1880-1890\t Max Reward: 2.400\t Moving Average: 1.024\n",
      "Episode 1890-1900\t Max Reward: 3.400\t Moving Average: 0.988\n",
      "Training stopped. Best score not matched or exceeded for 200 episodes\n"
     ]
    }
   ],
   "source": [
    "SOLVED_SCORE = 0.5\n",
    "CONSEC_EPISODES = 100\n",
    "PRINT_EVERY = 10\n",
    "ADD_NOISE = True\n",
    "\n",
    "def maddpg(n_episodes=2000, max_t=1000, train_mode=True ):\n",
    "    #MADDPG: Multi-Agent Deep Deterministic Policy Gradient\n",
    "    #n_episodes  : maximum number of training episodes\n",
    "    #max_t       : maximum number of timesteps per episode\n",
    "    #train_mode  : set environment to training mode or not\n",
    "    \n",
    "    scores_window = deque(maxlen=CONSEC_EPISODES)\n",
    "    scores_all = []\n",
    "    moving_average = []\n",
    "    best_score = -np.inf\n",
    "    best_episode = 0\n",
    "    already_solved = False\n",
    "    \n",
    "    for i_episode in range(1, n_episodes+1):\n",
    "        env_info = env.reset(train_mode = train_mode)[brain_name]\n",
    "        states = np.reshape(env_info.vector_observations, (1, 48))\n",
    "        agent_0.reset()\n",
    "        agent_1.reset()\n",
    "        scores = np.zeros(num_agents)\n",
    "        while True:\n",
    "            actions = get_actions(states, ADD_NOISE)\n",
    "            env_info = env.step(actions)[brain_name]\n",
    "            next_states = np.reshape(env_info.vector_observations, (1,48))\n",
    "            rewards = env_info.rewards\n",
    "            done = env_info.local_done\n",
    "            agent_0.step(states, actions, rewards[0], next_states, done, 0)\n",
    "            agent_1.step(states, actions, rewards[1], next_states, done, 1)\n",
    "            scores += np.max(rewards)\n",
    "            states = next_states\n",
    "            if np.any(done):\n",
    "                break\n",
    "                \n",
    "        ep_best_score = np.max(scores)\n",
    "        scores_window.append(ep_best_score)\n",
    "        scores_all.append(ep_best_score)\n",
    "        moving_average.append(np.mean(scores_window))\n",
    "        \n",
    "        if ep_best_score > best_score:\n",
    "            best_score = ep_best_score\n",
    "            best_episode = i_episode\n",
    "            \n",
    "        if i_episode % PRINT_EVERY == 0:\n",
    "            print(\"Episode {:0>4d}-{:0>4d}\\t Max Reward: {:.3f}\\t Moving Average: {:.3f}\".format(i_episode - PRINT_EVERY, i_episode, np.max(scores_all[-PRINT_EVERY:]), moving_average[-1]))\n",
    "\n",
    "        if moving_average[-1] >= SOLVED_SCORE:\n",
    "            if not already_solved:\n",
    "                print('<-- Environment Solved in {:d} episodes. \\n Moving Average: {:.3f} over past {:d} episodes'.format(i_episode-CONSEC_EPISODES, moving_average[-1], CONSEC_EPISODES))\n",
    "                already_solved = True\n",
    "                torch.save(agent_0.actor_local.state_dict(),  \"models/checkpoint_actor_0.pth\")\n",
    "                torch.save(agent_0.critic_local.state_dict(), \"models/checkpoint_critic_0.pth\")\n",
    "                torch.save(agent_1.actor_local.state_dict(),  \"models/checkpoint_actor_1.pth\")\n",
    "                torch.save(agent_1.critic_local.state_dict(), \"models/checkpoint_critic_1.pth\")\n",
    "            elif ep_best_score >= best_score:\n",
    "                print(\"Best episode so far\\n Episode {:0>4d}\\t Max reward: {:.3f} \\t Moving average: {:.3f}\".format(i_episode, ep_best_score, moving_average[-1]))\n",
    "                torch.save(agent_0.actor_local.state_dict(),  \"models/checkpoint_actor_0.pth\")\n",
    "                torch.save(agent_0.critic_local.state_dict(), \"models/checkpoint_critic_0.pth\")\n",
    "                torch.save(agent_1.actor_local.state_dict(),  \"models/checkpoint_actor_1.pth\")\n",
    "                torch.save(agent_1.critic_local.state_dict(), \"models/checkpoint_critic_1.pth\")\n",
    "            elif (i_episode - best_episode) >= 200:\n",
    "                print(\"Training stopped. Best score not matched or exceeded for 200 episodes\")\n",
    "                break\n",
    "            else:\n",
    "                continue\n",
    "                \n",
    "    return scores_all, moving_average\n",
    "\n",
    "def get_actions(states, add_noise):\n",
    "    action_0 = agent_0.act(states, add_noise)\n",
    "    action_1 = agent_1.act(states, add_noise)\n",
    "    return np.concatenate((action_0, action_1), axis=0).flatten()\n",
    "\n",
    "agent_0 = Agent(state_size, action_size, num_agents = 1, random_seed = 0)\n",
    "agent_1 = Agent(state_size, action_size, num_agents = 1, random_seed = 0)\n",
    "\n",
    "scores, avgs = maddpg()\n",
    "            \n",
    "    "
   ]
  },
  {
   "cell_type": "code",
   "execution_count": 9,
   "metadata": {},
   "outputs": [],
   "source": [
    "#torch.save(agent_0.actor_local.state_dict(),  \"models/checkpoint_actor_0.pth\")\n",
    "#torch.save(agent_0.critic_local.state_dict(), \"models/checkpoint_critic_0.pth\")\n",
    "#torch.save(agent_1.actor_local.state_dict(),  \"models/checkpoint_actor_1.pth\")\n",
    "#torch.save(agent_1.critic_local.state_dict(), \"models/checkpoint_critic_1.pth\")"
   ]
  },
  {
   "cell_type": "code",
   "execution_count": 10,
   "metadata": {},
   "outputs": [
    {
     "data": {
      "image/png": "[encoded data removed]",
      "text/plain": [
       "<matplotlib.figure.Figure at 0x7f89ddb7ff60>"
      ]
     },
     "metadata": {
      "needs_background": "light"
     },
     "output_type": "display_data"
    }
   ],
   "source": [
    "fig = plt.figure()\n",
    "ax = fig.add_subplot(111)\n",
    "plt.plot(np.arange(len(scores)), scores, label=\"MADDPG\")\n",
    "plt.plot(np.arange(len(scores)), avgs, c='r', label='moving avg')\n",
    "plt.ylabel('Score')\n",
    "plt.xlabel('Episode #')\n",
    "plt.legend(loc='upper left')\n",
    "plt.show()"
   ]
  },
  {
   "cell_type": "code",
   "execution_count": null,
   "metadata": {},
   "outputs": [],
   "source": [
    "                    "
   ]
  }
 ],
 "metadata": {
  "kernelspec": {
   "display_name": "Python 3",
   "language": "python",
   "name": "python3"
  },
  "language_info": {
   "codemirror_mode": {
    "name": "ipython",
    "version": 3
   },
   "file_extension": ".py",
   "mimetype": "text/x-python",
   "name": "python",
   "nbconvert_exporter": "python",
   "pygments_lexer": "ipython3",
   "version": "3.6.3"
  }
 },
 "nbformat": 4,
 "nbformat_minor": 2
}
